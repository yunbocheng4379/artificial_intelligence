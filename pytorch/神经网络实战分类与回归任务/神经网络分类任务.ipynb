{
 "cells": [
  {
   "cell_type": "markdown",
   "metadata": {
    "pycharm": {
     "name": "#%% md\n"
    }
   },
   "source": [
    "### Mnist分类任务：\n",
    "\n",
    "- 网络基本构建与训练方法，常用函数解析\n",
    "\n",
    "- torch.nn.functional模块\n",
    "\n",
    "- nn.Module模块\n"
   ]
  },
  {
   "cell_type": "code",
   "execution_count": null,
   "metadata": {
    "collapsed": false,
    "jupyter": {
     "outputs_hidden": false
    },
    "pycharm": {
     "is_executing": true,
     "name": "#%%\n"
    }
   },
   "outputs": [],
   "source": []
  },
  {
   "cell_type": "markdown",
   "metadata": {
    "pycharm": {
     "name": "#%% md\n"
    }
   },
   "source": [
    "### 读取Mnist数据集\n",
    "- 会自动进行下载"
   ]
  },
  {
   "cell_type": "code",
   "execution_count": 1,
   "metadata": {
    "pycharm": {
     "name": "#%%\n"
    }
   },
   "outputs": [],
   "source": [
    "%matplotlib inline"
   ]
  },
  {
   "cell_type": "code",
   "execution_count": 2,
   "metadata": {
    "pycharm": {
     "is_executing": true,
     "name": "#%%\n"
    }
   },
   "outputs": [],
   "source": [
    "from pathlib import Path\n",
    "import requests\n",
    "\n",
    "DATA_PATH = Path(\"data\")\n",
    "PATH = DATA_PATH / \"mnist\"\n",
    "\n",
    "PATH.mkdir(parents=True, exist_ok=True)\n",
    "\n",
    "URL = \"http://deeplearning.net/data/mnist/\"\n",
    "FILENAME = \"mnist.pkl.gz\"\n",
    "\n",
    "if not (PATH / FILENAME).exists():\n",
    "        content = requests.get(URL + FILENAME).content\n",
    "        (PATH / FILENAME).open(\"wb\").write(content)"
   ]
  },
  {
   "cell_type": "code",
   "execution_count": 3,
   "metadata": {
    "pycharm": {
     "name": "#%%\n"
    }
   },
   "outputs": [],
   "source": [
    "import pickle\n",
    "import gzip\n",
    "\n",
    "with gzip.open((PATH / FILENAME).as_posix(), \"rb\") as f:\n",
    "        ((x_train, y_train), (x_valid, y_valid), _) = pickle.load(f, encoding=\"latin-1\")"
   ]
  },
  {
   "cell_type": "code",
   "execution_count": 4,
   "metadata": {
    "collapsed": false,
    "jupyter": {
     "outputs_hidden": false
    },
    "pycharm": {
     "name": "#%%\n"
    }
   },
   "outputs": [
    {
     "data": {
      "text/plain": [
       "5"
      ]
     },
     "execution_count": 4,
     "metadata": {},
     "output_type": "execute_result"
    }
   ],
   "source": [
    "y_train[0]"
   ]
  },
  {
   "cell_type": "markdown",
   "metadata": {
    "collapsed": false,
    "jupyter": {
     "outputs_hidden": false
    },
    "pycharm": {
     "name": "#%% md\n"
    }
   },
   "source": [
    "784是mnist数据集每个样本的像素点个数"
   ]
  },
  {
   "cell_type": "code",
   "execution_count": 5,
   "metadata": {
    "collapsed": false,
    "jupyter": {
     "outputs_hidden": false
    },
    "pycharm": {
     "name": "#%%\n"
    }
   },
   "outputs": [
    {
     "name": "stdout",
     "output_type": "stream",
     "text": [
      "(50000, 784)\n"
     ]
    },
    {
     "data": {
      "image/png": "[encoded data removed]",
      "text/plain": [
       "<Figure size 640x480 with 1 Axes>"
      ]
     },
     "metadata": {},
     "output_type": "display_data"
    }
   ],
   "source": [
    "from matplotlib import pyplot\n",
    "import numpy as np\n",
    "\n",
    "pyplot.imshow(x_train[0].reshape((28, 28)), cmap=\"gray\")\n",
    "print(x_train.shape)"
   ]
  },
  {
   "cell_type": "markdown",
   "metadata": {
    "collapsed": false,
    "jupyter": {
     "outputs_hidden": false
    },
    "pycharm": {
     "name": "#%% md\n"
    }
   },
   "source": [
    "<img src=\"./img/4.png\" alt=\"FAO\" width=\"790\">"
   ]
  },
  {
   "cell_type": "markdown",
   "metadata": {
    "collapsed": false,
    "jupyter": {
     "outputs_hidden": false
    },
    "pycharm": {
     "name": "#%% md\n"
    }
   },
   "source": [
    "<img src=\"./img/5.png\" alt=\"FAO\" width=\"790\">"
   ]
  },
  {
   "cell_type": "markdown",
   "metadata": {
    "collapsed": false,
    "jupyter": {
     "outputs_hidden": false
    },
    "pycharm": {
     "name": "#%% md\n"
    }
   },
   "source": [
    "注意数据需转换成tensor才能参与后续建模训练\n"
   ]
  },
  {
   "cell_type": "code",
   "execution_count": 6,
   "metadata": {
    "collapsed": false,
    "jupyter": {
     "outputs_hidden": false
    },
    "pycharm": {
     "name": "#%%\n"
    }
   },
   "outputs": [
    {
     "name": "stdout",
     "output_type": "stream",
     "text": [
      "tensor([[0., 0., 0.,  ..., 0., 0., 0.],\n",
      "        [0., 0., 0.,  ..., 0., 0., 0.],\n",
      "        [0., 0., 0.,  ..., 0., 0., 0.],\n",
      "        ...,\n",
      "        [0., 0., 0.,  ..., 0., 0., 0.],\n",
      "        [0., 0., 0.,  ..., 0., 0., 0.],\n",
      "        [0., 0., 0.,  ..., 0., 0., 0.]]) tensor([5, 0, 4,  ..., 8, 4, 8])\n",
      "torch.Size([50000, 784])\n",
      "tensor(0) tensor(9)\n"
     ]
    }
   ],
   "source": [
    "import torch\n",
    "\n",
    "x_train, y_train, x_valid, y_valid = map(\n",
    "    torch.tensor, (x_train, y_train, x_valid, y_valid)\n",
    ")\n",
    "n, c = x_train.shape\n",
    "x_train, x_train.shape, y_train.min(), y_train.max()\n",
    "print(x_train, y_train)\n",
    "print(x_train.shape)\n",
    "print(y_train.min(), y_train.max())"
   ]
  },
  {
   "cell_type": "markdown",
   "metadata": {
    "collapsed": false,
    "jupyter": {
     "outputs_hidden": false
    },
    "pycharm": {
     "name": "#%% md\n"
    }
   },
   "source": [
    "### torch.nn.functional 很多层和函数在这里都会见到\n",
    "\n",
    "torch.nn.functional中有很多功能，后续会常用的。那什么时候使用nn.Module，什么时候使用nn.functional呢？一般情况下，如果模型有可学习的参数，最好用nn.Module，其他情况nn.functional相对更简单一些"
   ]
  },
  {
   "cell_type": "code",
   "execution_count": 7,
   "metadata": {
    "collapsed": false,
    "jupyter": {
     "outputs_hidden": false
    },
    "pycharm": {
     "name": "#%%\n"
    }
   },
   "outputs": [],
   "source": [
    "import torch.nn.functional as F\n",
    "\n",
    "loss_func = F.cross_entropy\n",
    "\n",
    "def model(xb):\n",
    "    return xb.mm(weights) + bias"
   ]
  },
  {
   "cell_type": "code",
   "execution_count": 8,
   "metadata": {
    "collapsed": false,
    "jupyter": {
     "outputs_hidden": false
    },
    "pycharm": {
     "name": "#%%\n"
    }
   },
   "outputs": [
    {
     "name": "stdout",
     "output_type": "stream",
     "text": [
      "tensor(12.8754, grad_fn=<NllLossBackward0>)\n"
     ]
    }
   ],
   "source": [
    "bs = 64\n",
    "xb = x_train[0:bs]  # a mini-batch from x\n",
    "yb = y_train[0:bs]\n",
    "weights = torch.randn([784, 10], dtype = torch.float,  requires_grad = True) \n",
    "bs = 64\n",
    "bias = torch.zeros(10, requires_grad=True)\n",
    "\n",
    "print(loss_func(model(xb), yb))"
   ]
  },
  {
   "cell_type": "markdown",
   "metadata": {
    "collapsed": false,
    "jupyter": {
     "outputs_hidden": false
    },
    "pycharm": {
     "name": "#%% md\n"
    }
   },
   "source": [
    "### 创建一个model来更简化代码"
   ]
  },
  {
   "cell_type": "markdown",
   "metadata": {
    "collapsed": false,
    "jupyter": {
     "outputs_hidden": false
    },
    "pycharm": {
     "name": "#%% md\n"
    }
   },
   "source": [
    "- 必须继承nn.Module且在其构造函数中需调用nn.Module的构造函数\n",
    "- 无需写反向传播函数，nn.Module能够利用autograd自动实现反向传播\n",
    "- Module中的可学习参数可以通过named_parameters()或者parameters()返回迭代器"
   ]
  },
  {
   "cell_type": "code",
   "execution_count": 9,
   "metadata": {
    "collapsed": false,
    "jupyter": {
     "outputs_hidden": false
    },
    "pycharm": {
     "name": "#%%\n"
    }
   },
   "outputs": [],
   "source": [
    "from torch import nn\n",
    "\n",
    "class Mnist_NN(nn.Module):\n",
    "    def __init__(self):\n",
    "        super().__init__()\n",
    "        self.hidden1 = nn.Linear(784, 128)\n",
    "        self.hidden2 = nn.Linear(128, 256)\n",
    "        self.out  = nn.Linear(256, 10)\n",
    "\n",
    "    def forward(self, x):\n",
    "        x = F.relu(self.hidden1(x))\n",
    "        x = F.relu(self.hidden2(x))\n",
    "        x = self.out(x)\n",
    "        return x\n",
    "        "
   ]
  },
  {
   "cell_type": "code",
   "execution_count": 10,
   "metadata": {
    "collapsed": false,
    "jupyter": {
     "outputs_hidden": false
    },
    "pycharm": {
     "name": "#%%\n"
    }
   },
   "outputs": [
    {
     "name": "stdout",
     "output_type": "stream",
     "text": [
      "Mnist_NN(\n",
      "  (hidden1): Linear(in_features=784, out_features=128, bias=True)\n",
      "  (hidden2): Linear(in_features=128, out_features=256, bias=True)\n",
      "  (out): Linear(in_features=256, out_features=10, bias=True)\n",
      ")\n"
     ]
    }
   ],
   "source": [
    "net = Mnist_NN()\n",
    "print(net)\n"
   ]
  },
  {
   "cell_type": "markdown",
   "metadata": {
    "collapsed": false,
    "jupyter": {
     "outputs_hidden": false
    },
    "pycharm": {
     "name": "#%% md\n"
    }
   },
   "source": [
    "可以打印我们定义好名字里的权重和偏置项"
   ]
  },
  {
   "cell_type": "code",
   "execution_count": 11,
   "metadata": {
    "collapsed": false,
    "jupyter": {
     "outputs_hidden": false
    },
    "pycharm": {
     "name": "#%%\n"
    }
   },
   "outputs": [
    {
     "name": "stdout",
     "output_type": "stream",
     "text": [
      "hidden1.weight Parameter containing:\n",
      "tensor([[-0.0111,  0.0216,  0.0137,  ...,  0.0156,  0.0082,  0.0270],\n",
      "        [ 0.0340,  0.0354,  0.0072,  ..., -0.0189, -0.0209,  0.0254],\n",
      "        [-0.0341, -0.0029, -0.0167,  ..., -0.0234, -0.0184, -0.0106],\n",
      "        ...,\n",
      "        [-0.0146, -0.0317, -0.0072,  ...,  0.0040,  0.0229, -0.0164],\n",
      "        [ 0.0353,  0.0100, -0.0065,  ..., -0.0310, -0.0099,  0.0181],\n",
      "        [-0.0040, -0.0330, -0.0260,  ..., -0.0193,  0.0328,  0.0348]],\n",
      "       requires_grad=True) torch.Size([128, 784])\n",
      "hidden1.bias Parameter containing:\n",
      "tensor([ 0.0073,  0.0227, -0.0351,  0.0307,  0.0120, -0.0247,  0.0053, -0.0010,\n",
      "         0.0048,  0.0269, -0.0245,  0.0012,  0.0011, -0.0103,  0.0353,  0.0263,\n",
      "         0.0265, -0.0113,  0.0270, -0.0258,  0.0180, -0.0249, -0.0172, -0.0339,\n",
      "        -0.0211, -0.0005, -0.0040,  0.0277, -0.0015,  0.0152,  0.0268, -0.0176,\n",
      "        -0.0250,  0.0291,  0.0060,  0.0089, -0.0245,  0.0339, -0.0212, -0.0083,\n",
      "         0.0319, -0.0317, -0.0215, -0.0120,  0.0010, -0.0238, -0.0147, -0.0100,\n",
      "         0.0058,  0.0248, -0.0168,  0.0178,  0.0138,  0.0290, -0.0227, -0.0335,\n",
      "        -0.0320, -0.0223,  0.0264,  0.0244,  0.0023,  0.0032,  0.0184, -0.0284,\n",
      "        -0.0090, -0.0256, -0.0089,  0.0341, -0.0067,  0.0007,  0.0220,  0.0004,\n",
      "         0.0264, -0.0339, -0.0238,  0.0355,  0.0066, -0.0078,  0.0005,  0.0340,\n",
      "         0.0008, -0.0247,  0.0130, -0.0316,  0.0344, -0.0235,  0.0280,  0.0021,\n",
      "        -0.0043,  0.0338, -0.0333,  0.0301, -0.0333,  0.0019,  0.0324, -0.0107,\n",
      "        -0.0330,  0.0023,  0.0218, -0.0108,  0.0033,  0.0015, -0.0046,  0.0177,\n",
      "        -0.0274,  0.0292, -0.0186, -0.0308, -0.0170, -0.0267, -0.0218, -0.0151,\n",
      "        -0.0173, -0.0035,  0.0232, -0.0107, -0.0301,  0.0282, -0.0281, -0.0326,\n",
      "         0.0302,  0.0327,  0.0174,  0.0334, -0.0145, -0.0134, -0.0098,  0.0155],\n",
      "       requires_grad=True) torch.Size([128])\n",
      "hidden2.weight Parameter containing:\n",
      "tensor([[-0.0620,  0.0440, -0.0699,  ...,  0.0681,  0.0487, -0.0826],\n",
      "        [ 0.0116, -0.0337,  0.0148,  ..., -0.0875,  0.0267, -0.0658],\n",
      "        [ 0.0310,  0.0105,  0.0683,  ...,  0.0359, -0.0764,  0.0613],\n",
      "        ...,\n",
      "        [-0.0165, -0.0495,  0.0407,  ..., -0.0140,  0.0659,  0.0083],\n",
      "        [-0.0211,  0.0193, -0.0016,  ...,  0.0430,  0.0728,  0.0029],\n",
      "        [ 0.0565, -0.0793, -0.0712,  ..., -0.0859,  0.0863, -0.0818]],\n",
      "       requires_grad=True) torch.Size([256, 128])\n",
      "hidden2.bias Parameter containing:\n",
      "tensor([-0.0116,  0.0397,  0.0117,  0.0221, -0.0599,  0.0458,  0.0861,  0.0519,\n",
      "         0.0316,  0.0100,  0.0740,  0.0637, -0.0045,  0.0384, -0.0786,  0.0754,\n",
      "         0.0197, -0.0599,  0.0741, -0.0463, -0.0459, -0.0648,  0.0210,  0.0697,\n",
      "        -0.0129, -0.0860,  0.0792,  0.0578,  0.0619, -0.0017,  0.0560,  0.0019,\n",
      "         0.0738,  0.0566,  0.0823,  0.0260, -0.0179, -0.0230,  0.0414,  0.0566,\n",
      "         0.0589,  0.0081, -0.0645, -0.0090,  0.0121,  0.0615,  0.0797,  0.0707,\n",
      "        -0.0237, -0.0333, -0.0576,  0.0350, -0.0783,  0.0625,  0.0799,  0.0506,\n",
      "        -0.0181,  0.0464, -0.0731,  0.0780, -0.0395,  0.0398, -0.0649, -0.0025,\n",
      "        -0.0285,  0.0401, -0.0604,  0.0596,  0.0749, -0.0406,  0.0847, -0.0179,\n",
      "         0.0689, -0.0154,  0.0871, -0.0378, -0.0134, -0.0754,  0.0832,  0.0124,\n",
      "         0.0469, -0.0205,  0.0107, -0.0245, -0.0384,  0.0528,  0.0308,  0.0473,\n",
      "         0.0651,  0.0680, -0.0091,  0.0341,  0.0211, -0.0769,  0.0416, -0.0847,\n",
      "         0.0112,  0.0061,  0.0224, -0.0717, -0.0818, -0.0522, -0.0868, -0.0085,\n",
      "         0.0821,  0.0614, -0.0215,  0.0370, -0.0618, -0.0810, -0.0607, -0.0676,\n",
      "         0.0398, -0.0185, -0.0318, -0.0274, -0.0232,  0.0370, -0.0589, -0.0828,\n",
      "        -0.0564, -0.0544,  0.0451,  0.0637,  0.0289, -0.0693,  0.0482,  0.0422,\n",
      "        -0.0186,  0.0389,  0.0580,  0.0099,  0.0806,  0.0457, -0.0674, -0.0596,\n",
      "        -0.0427,  0.0220, -0.0044,  0.0434, -0.0540, -0.0461,  0.0141,  0.0084,\n",
      "         0.0269, -0.0223,  0.0722, -0.0562, -0.0165,  0.0106, -0.0423,  0.0274,\n",
      "        -0.0718,  0.0638, -0.0362,  0.0717,  0.0416,  0.0212, -0.0292,  0.0519,\n",
      "        -0.0364, -0.0407, -0.0400, -0.0130,  0.0211, -0.0130, -0.0498, -0.0303,\n",
      "        -0.0758,  0.0547, -0.0410,  0.0531,  0.0611, -0.0831, -0.0708, -0.0087,\n",
      "         0.0036,  0.0049, -0.0504, -0.0072,  0.0097,  0.0120, -0.0009,  0.0679,\n",
      "        -0.0539, -0.0009,  0.0682,  0.0262,  0.0075,  0.0364,  0.0445, -0.0623,\n",
      "         0.0036,  0.0623,  0.0120, -0.0332,  0.0062, -0.0866,  0.0624,  0.0530,\n",
      "        -0.0689,  0.0256,  0.0759, -0.0883,  0.0543,  0.0573,  0.0675,  0.0191,\n",
      "        -0.0681, -0.0865,  0.0410,  0.0458, -0.0631, -0.0096,  0.0036, -0.0697,\n",
      "         0.0017, -0.0307, -0.0733,  0.0112, -0.0409, -0.0626, -0.0204,  0.0712,\n",
      "        -0.0569,  0.0737, -0.0131,  0.0523, -0.0848, -0.0443, -0.0099,  0.0789,\n",
      "         0.0703,  0.0458, -0.0526, -0.0851,  0.0587, -0.0570,  0.0771,  0.0248,\n",
      "         0.0821, -0.0522, -0.0750, -0.0133, -0.0544,  0.0699, -0.0441,  0.0823,\n",
      "        -0.0768,  0.0088,  0.0771, -0.0484, -0.0344,  0.0006,  0.0166,  0.0287],\n",
      "       requires_grad=True) torch.Size([256])\n",
      "out.weight Parameter containing:\n",
      "tensor([[ 0.0394, -0.0527,  0.0082,  ..., -0.0364,  0.0457, -0.0250],\n",
      "        [-0.0454, -0.0469,  0.0424,  ...,  0.0218,  0.0562, -0.0142],\n",
      "        [ 0.0276,  0.0478,  0.0184,  ...,  0.0521,  0.0378, -0.0293],\n",
      "        ...,\n",
      "        [-0.0223, -0.0494,  0.0540,  ..., -0.0374, -0.0250,  0.0431],\n",
      "        [ 0.0617,  0.0173, -0.0489,  ..., -0.0078, -0.0143,  0.0068],\n",
      "        [ 0.0497,  0.0018,  0.0565,  ..., -0.0620,  0.0276, -0.0582]],\n",
      "       requires_grad=True) torch.Size([10, 256])\n",
      "out.bias Parameter containing:\n",
      "tensor([-4.8899e-02, -2.1380e-02, -5.4487e-02,  8.6799e-05,  1.8931e-02,\n",
      "        -5.4428e-02,  4.8776e-02, -2.4847e-03,  3.7149e-02, -3.0622e-02],\n",
      "       requires_grad=True) torch.Size([10])\n"
     ]
    }
   ],
   "source": [
    "for name, parameter in net.named_parameters():\n",
    "    print(name, parameter,parameter.size())"
   ]
  },
  {
   "cell_type": "markdown",
   "metadata": {
    "collapsed": false,
    "jupyter": {
     "outputs_hidden": false
    },
    "pycharm": {
     "name": "#%% md\n"
    }
   },
   "source": [
    "### 使用TensorDataset和DataLoader来简化"
   ]
  },
  {
   "cell_type": "code",
   "execution_count": 12,
   "metadata": {
    "collapsed": false,
    "jupyter": {
     "outputs_hidden": false
    },
    "pycharm": {
     "name": "#%%\n"
    }
   },
   "outputs": [],
   "source": [
    "from torch.utils.data import TensorDataset\n",
    "from torch.utils.data import DataLoader\n",
    "\n",
    "train_ds = TensorDataset(x_train, y_train)\n",
    "train_dl = DataLoader(train_ds, batch_size=bs, shuffle=True)\n",
    "\n",
    "valid_ds = TensorDataset(x_valid, y_valid)\n",
    "valid_dl = DataLoader(valid_ds, batch_size=bs * 2)"
   ]
  },
  {
   "cell_type": "code",
   "execution_count": 13,
   "metadata": {
    "collapsed": false,
    "jupyter": {
     "outputs_hidden": false
    },
    "pycharm": {
     "name": "#%%\n"
    }
   },
   "outputs": [],
   "source": [
    "def get_data(train_ds, valid_ds, bs):\n",
    "    return (\n",
    "        DataLoader(train_ds, batch_size=bs, shuffle=True),\n",
    "        DataLoader(valid_ds, batch_size=bs * 2),\n",
    "    )"
   ]
  },
  {
   "cell_type": "markdown",
   "metadata": {
    "collapsed": false,
    "jupyter": {
     "outputs_hidden": false
    },
    "pycharm": {
     "name": "#%% md\n"
    }
   },
   "source": [
    "- 一般在训练模型时加上model.train()，这样会正常使用Batch Normalization和 Dropout\n",
    "- 测试的时候一般选择model.eval()，这样就不会使用Batch Normalization和 Dropout"
   ]
  },
  {
   "cell_type": "code",
   "execution_count": 14,
   "metadata": {
    "collapsed": false,
    "jupyter": {
     "outputs_hidden": false
    },
    "pycharm": {
     "name": "#%%\n"
    }
   },
   "outputs": [],
   "source": [
    "import numpy as np\n",
    "\n",
    "def fit(steps, model, loss_func, opt, train_dl, valid_dl):\n",
    "    for step in range(steps):\n",
    "        model.train()\n",
    "        for xb, yb in train_dl:\n",
    "            loss_batch(model, loss_func, xb, yb, opt)\n",
    "\n",
    "        model.eval()\n",
    "        with torch.no_grad():\n",
    "            losses, nums = zip(\n",
    "                *[loss_batch(model, loss_func, xb, yb) for xb, yb in valid_dl]\n",
    "            )\n",
    "        val_loss = np.sum(np.multiply(losses, nums)) / np.sum(nums)\n",
    "        print('当前step:'+str(step), '验证集损失：'+str(val_loss))"
   ]
  },
  {
   "cell_type": "code",
   "execution_count": 15,
   "metadata": {
    "collapsed": false,
    "jupyter": {
     "outputs_hidden": false
    },
    "pycharm": {
     "name": "#%%\n"
    }
   },
   "outputs": [],
   "source": [
    "from torch import optim\n",
    "def get_model():\n",
    "    model = Mnist_NN()\n",
    "    return model, optim.SGD(model.parameters(), lr=0.001)"
   ]
  },
  {
   "cell_type": "code",
   "execution_count": 16,
   "metadata": {
    "collapsed": false,
    "jupyter": {
     "outputs_hidden": false
    },
    "pycharm": {
     "name": "#%%\n"
    }
   },
   "outputs": [],
   "source": [
    "def loss_batch(model, loss_func, xb, yb, opt=None):\n",
    "    loss = loss_func(model(xb), yb)\n",
    "\n",
    "    if opt is not None:\n",
    "        loss.backward()\n",
    "        opt.step()\n",
    "        opt.zero_grad()\n",
    "\n",
    "    return loss.item(), len(xb)"
   ]
  },
  {
   "cell_type": "markdown",
   "metadata": {
    "collapsed": false,
    "jupyter": {
     "outputs_hidden": false
    },
    "pycharm": {
     "name": "#%% md\n"
    }
   },
   "source": [
    "### 三行搞定！"
   ]
  },
  {
   "cell_type": "code",
   "execution_count": 17,
   "metadata": {
    "collapsed": false,
    "jupyter": {
     "outputs_hidden": false
    },
    "pycharm": {
     "name": "#%%\n"
    }
   },
   "outputs": [
    {
     "name": "stdout",
     "output_type": "stream",
     "text": [
      "当前step:0 验证集损失：2.277573703765869\n",
      "当前step:1 验证集损失：2.246312379837036\n",
      "当前step:2 验证集损失：2.1982615325927735\n",
      "当前step:3 验证集损失：2.1192152908325195\n",
      "当前step:4 验证集损失：1.988429735183716\n",
      "当前step:5 验证集损失：1.7876382356643676\n",
      "当前step:6 验证集损失：1.5302555858612061\n",
      "当前step:7 验证集损失：1.267729371070862\n",
      "当前step:8 验证集损失：1.0481321079254151\n",
      "当前step:9 验证集损失：0.8854651832580567\n",
      "当前step:10 验证集损失：0.769311152267456\n",
      "当前step:11 验证集损失：0.6852361001968383\n",
      "当前step:12 验证集损失：0.6232443956375122\n",
      "当前step:13 验证集损失：0.5756664014816284\n",
      "当前step:14 验证集损失：0.5385847574710846\n",
      "当前step:15 验证集损失：0.5087478234291076\n",
      "当前step:16 验证集损失：0.4844760150909424\n",
      "当前step:17 验证集损失：0.4640840609550476\n",
      "当前step:18 验证集损失：0.44730802721977236\n",
      "当前step:19 验证集损失：0.4327502868175507\n"
     ]
    }
   ],
   "source": [
    "train_dl, valid_dl = get_data(train_ds, valid_ds, bs)\n",
    "model, opt = get_model()\n",
    "fit(20, model, loss_func, opt, train_dl, valid_dl)"
   ]
  },
  {
   "cell_type": "code",
   "execution_count": 18,
   "metadata": {
    "collapsed": false,
    "jupyter": {
     "outputs_hidden": false
    },
    "pycharm": {
     "name": "#%%\n"
    }
   },
   "outputs": [
    {
     "name": "stdout",
     "output_type": "stream",
     "text": [
      "Accurancy of the network on the 1000 test images: 88 %\n"
     ]
    }
   ],
   "source": [
    "correct = 0\n",
    "total = 0\n",
    "for xb, yb in valid_dl:\n",
    "    outputs = model(xb)\n",
    "    _, predicted = torch.max(outputs.data, 1)\n",
    "    total += yb.size(0)\n",
    "    correct += (predicted == yb).sum().item()\n",
    "print(\"Accurancy of the network on the 1000 test images: %d %%\" % (100 * correct / total))"
   ]
  },
  {
   "cell_type": "code",
   "execution_count": null,
   "metadata": {
    "collapsed": false,
    "jupyter": {
     "outputs_hidden": false
    },
    "pycharm": {
     "name": "#%%\n"
    }
   },
   "outputs": [],
   "source": []
  }
 ],
 "metadata": {
  "kernelspec": {
   "display_name": "Python 3 (ipykernel)",
   "language": "python",
   "name": "python3"
  },
  "language_info": {
   "codemirror_mode": {
    "name": "ipython",
    "version": 3
   },
   "file_extension": ".py",
   "mimetype": "text/x-python",
   "name": "python",
   "nbconvert_exporter": "python",
   "pygments_lexer": "ipython3",
   "version": "3.8.3"
  }
 },
 "nbformat": 4,
 "nbformat_minor": 4
}