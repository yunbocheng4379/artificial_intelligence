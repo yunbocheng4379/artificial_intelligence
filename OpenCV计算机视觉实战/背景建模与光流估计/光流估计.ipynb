{
 "cells": [
  {
   "cell_type": "markdown",
   "metadata": {
    "pycharm": {
     "name": "#%% md\n"
    }
   },
   "source": [
    "### 光流估计\n",
    "\n",
    "#### 定义\n",
    "1. 光流是视频中**相邻帧之间像素运动的矢量描述**，反应物体在图像平面上的瞬时运动场（瞬时速度）。根据各个像素点的速度矢量特征，可以对图像进行动态分析，例如目标跟踪。\n",
    "\n",
    "2. 通过当前帧与下一帧像素运动变化，可以分析出像素点瞬时速度大小、方向等信息。\n",
    "\n",
    "#### 核心假设（前提条件）\n",
    "1. 亮度恒定：同一像素点在连续帧中的亮度不变\n",
    "2. 时间连续：运动位移量较小（可通过金字塔缓解）\n",
    "3. 空间一致：邻近像素有相似运动（领域约束）。一个场景上邻近的点投影到图像上也是邻近点，且邻近点速度一致。因为光流法基本方程约束只有一个，而要求x，y方向的速度，有两个未知变量。所以需要连立n多个方程求解。\n",
    "\n",
    "#### 核心算法\n",
    "【Lucas-Kanade】下边介绍\n",
    "\n",
    "#### 应用场景\n",
    "1. 自动驾驶：障碍物运动估计、碰撞预警\n",
    "2. 视频稳定：相机运补偿\n",
    "3. 行为识别：人体动作分析（如跌倒检测）\n",
    "4. 医学影响：心脏运动分析、血流跟踪\n",
    "5. 增强现实：虚拟物体与真实场景运动同步\n",
    "\n"
   ]
  },
  {
   "cell_type": "markdown",
   "metadata": {
    "pycharm": {
     "name": "#%% md\n"
    }
   },
   "source": [
    "![title](lk_2.png)"
   ]
  },
  {
   "cell_type": "markdown",
   "metadata": {
    "pycharm": {
     "name": "#%% md\n"
    }
   },
   "source": [
    "![title](lk_1.png)"
   ]
  },
  {
   "cell_type": "markdown",
   "metadata": {
    "pycharm": {
     "name": "#%% md\n"
    }
   },
   "source": [
    "### Lucas-Kanade 算法\n",
    "\n",
    "#### 核心算法原理\n",
    "1. 基础假设（和上述一致【亮度恒定、小运动、空间一致性】）\n",
    "2. 数学推导：见下图\n",
    "3. 金字塔分层（Pyramid）：为解决大位移问题，算法在图像金字塔（多层缩放图像）上运行。\n"
   ]
  },
  {
   "cell_type": "markdown",
   "metadata": {
    "pycharm": {
     "name": "#%% md\n"
    }
   },
   "source": [
    "![title](lk_3.png)"
   ]
  },
  {
   "cell_type": "markdown",
   "metadata": {
    "pycharm": {
     "name": "#%% md\n"
    }
   },
   "source": [
    "如何求解方程组呢？看起来一个像素点根本不够，在物体移动过程中还有哪些特性呢？"
   ]
  },
  {
   "cell_type": "markdown",
   "metadata": {
    "pycharm": {
     "name": "#%% md\n"
    }
   },
   "source": [
    "![title](lk_4.png)"
   ]
  },
  {
   "cell_type": "markdown",
   "metadata": {
    "collapsed": true,
    "jupyter": {
     "outputs_hidden": true
    },
    "pycharm": {
     "name": "#%% md\n"
    }
   },
   "source": [
    "### cv2.calcOpticalFlowPyrLK():\n",
    "参数：\n",
    "- prevImage：前一帧图像（单通道灰度图）\n",
    "\n",
    "- nextImage：当前帧图像（单通道灰度图）\n",
    "\n",
    "- prevPts：待跟踪的特征点向量（前一帧的特征点，一般都是图像的角点）\n",
    "\n",
    "- winSize：搜索窗口的大小（默认(15.15)）\n",
    "\n",
    "- maxLevel：最大的金字塔层数（金字塔层（0表示不使用金字塔））\n",
    "\n",
    "\n",
    "返回：\n",
    "\n",
    "- nextPts：当前帧中匹配的特征点坐标（无效点坐标为NaN）\n",
    "\n",
    "- status：特征点是否找到，标志数组（1表示成功跟踪，0表示丢失）\n",
    "\n",
    "- err: 每个特征点的误差"
   ]
  },
  {
   "cell_type": "code",
   "execution_count": null,
   "outputs": [],
   "source": [
    "import numpy as np\n",
    "import cv2\n",
    "\n",
    "cap = cv2.VideoCapture('test.avi')\n",
    "\n",
    "# 角点检测所需参数\n",
    "# maxCorners：检测的最大角点数量\n",
    "# qualityLevel：角点质量阈值（0-1之间），值越小检测到的角点越多\n",
    "# minDistance：角点之间的最小欧氏距离\n",
    "feature_params = dict( maxCorners = 100,\n",
    "                       qualityLevel = 0.3,\n",
    "                       minDistance = 7)\n",
    "\n",
    "# Lucas-Kanade光流算法参数\n",
    "# winSize：每个金字塔级别的搜索窗口大小\n",
    "# maxLevel：金字塔层数（0表示不使用金字塔）\n",
    "lk_params = dict( winSize  = (15,15),\n",
    "                  maxLevel = 2)\n",
    "\n",
    "# 随机颜色条\n",
    "# 生成100个随机BGR颜色，用于可视化跟踪轨迹\n",
    "color = np.random.randint(0,255,(100,3))\n",
    "\n",
    "# 拿到第一帧图像\n",
    "# ret表示是否成功读取，old_frame是图像数据\n",
    "ret, old_frame = cap.read()\n",
    "# 将第一帧图像转换为灰度图（光流算法通常在灰度图像上运行）\n",
    "old_gray = cv2.cvtColor(old_frame, cv2.COLOR_BGR2GRAY)\n",
    "# 使用Shi-Tomasi角点检测第一帧特征点，返回检测到的特征点坐标\n",
    "p0 = cv2.goodFeaturesToTrack(old_gray, mask = None, **feature_params)\n",
    "\n",
    "# 创建一个与第一帧大小相同的全黑mask（掩膜），用于绘制跟踪轨迹\n",
    "mask = np.zeros_like(old_frame)\n",
    "\n",
    "while(True):\n",
    "    # 开始视频处理循环，读取下一帧\n",
    "    ret,frame = cap.read()\n",
    "    # 转换为灰度图\n",
    "    frame_gray = cv2.cvtColor(frame, cv2.COLOR_BGR2GRAY)\n",
    "\n",
    "    # 需要传入前一帧和当前图像以及前一帧检测到的角点\n",
    "    # 使用Lucas-Kanade算法计算稀疏光流\n",
    "    p1, st, err = cv2.calcOpticalFlowPyrLK(old_gray, frame_gray, p0, None, **lk_params)\n",
    "\n",
    "    # st=1表示：筛选出成功跟踪的特征点(st=1的点)\n",
    "    # good_new是当前帧中成功跟踪的点\n",
    "    # good_old是前一帧中对应的点\n",
    "    good_new = p1[st==1]\n",
    "    good_old = p0[st==1]\n",
    "\n",
    "    # 绘制轨迹\n",
    "    # 遍历所有成功跟踪的点对\n",
    "    for i,(new,old) in enumerate(zip(good_new,good_old)):\n",
    "        # 解包新旧点的坐标\n",
    "        a,b = new.ravel()\n",
    "        c,d = old.ravel()\n",
    "\n",
    "        # 将坐标调整为int类型\n",
    "        a, b = int(a), int(b)\n",
    "        c, d = int(c), int(d)\n",
    "        # 在mask图像上绘制从旧点到新点的线段（跟踪轨迹）\n",
    "        # 使用预先分配的颜色，线宽为2像素\n",
    "        mask = cv2.line(mask, (a,b),(c,d), color[i].tolist(), 2)\n",
    "        # 在当前帧图像上绘制新点位置（半径为5像素的实心圆）\n",
    "        frame = cv2.circle(frame,(a,b),5,color[i].tolist(),-1)\n",
    "    # 将当前帧和轨迹mask叠加在一起\n",
    "    img = cv2.add(frame,mask)\n",
    "\n",
    "    # 展示图像\n",
    "    cv2.imshow('frame',img)\n",
    "    k = cv2.waitKey(150) & 0xff\n",
    "    if k == 27:\n",
    "        break\n",
    "\n",
    "    # 更新前一帧的灰度图像和角点位置，为下一帧处理做准备\n",
    "    # 将good_new重新整形为与p0相同的形状（n×1×2）\n",
    "    old_gray = frame_gray.copy()\n",
    "    p0 = good_new.reshape(-1,1,2)\n",
    "\n",
    "cv2.destroyAllWindows()\n",
    "cap.release()"
   ],
   "metadata": {
    "collapsed": false,
    "pycharm": {
     "name": "#%%\n"
    }
   }
  },
  {
   "cell_type": "code",
   "execution_count": null,
   "outputs": [],
   "source": [],
   "metadata": {
    "collapsed": false,
    "pycharm": {
     "name": "#%%\n"
    }
   }
  },
  {
   "cell_type": "code",
   "execution_count": null,
   "outputs": [],
   "source": [],
   "metadata": {
    "collapsed": false,
    "pycharm": {
     "name": "#%%\n"
    }
   }
  },
  {
   "cell_type": "code",
   "execution_count": null,
   "outputs": [],
   "source": [],
   "metadata": {
    "collapsed": false,
    "pycharm": {
     "name": "#%%\n"
    }
   }
  },
  {
   "cell_type": "code",
   "execution_count": null,
   "outputs": [],
   "source": [],
   "metadata": {
    "collapsed": false,
    "pycharm": {
     "name": "#%%\n"
    }
   }
  },
  {
   "cell_type": "code",
   "execution_count": null,
   "metadata": {
    "collapsed": true,
    "jupyter": {
     "outputs_hidden": true
    },
    "pycharm": {
     "name": "#%%\n"
    }
   },
   "outputs": [],
   "source": []
  },
  {
   "cell_type": "code",
   "execution_count": null,
   "metadata": {},
   "outputs": [],
   "source": []
  },
  {
   "cell_type": "code",
   "execution_count": null,
   "metadata": {},
   "outputs": [],
   "source": []
  },
  {
   "cell_type": "code",
   "execution_count": null,
   "metadata": {},
   "outputs": [],
   "source": []
  },
  {
   "cell_type": "code",
   "execution_count": null,
   "metadata": {},
   "outputs": [],
   "source": []
  }
 ],
 "metadata": {
  "kernelspec": {
   "display_name": "Python 3 (ipykernel)",
   "language": "python",
   "name": "python3"
  },
  "language_info": {
   "codemirror_mode": {
    "name": "ipython",
    "version": 3
   },
   "file_extension": ".py",
   "mimetype": "text/x-python",
   "name": "python",
   "nbconvert_exporter": "python",
   "pygments_lexer": "ipython3",
   "version": "3.8.3"
  }
 },
 "nbformat": 4,
 "nbformat_minor": 4
}