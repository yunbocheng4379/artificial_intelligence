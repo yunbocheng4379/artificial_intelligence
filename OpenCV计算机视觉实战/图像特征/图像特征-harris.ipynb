{
 "cells": [
  {
   "cell_type": "markdown",
   "metadata": {
    "pycharm": {
     "name": "#%% md\n"
    }
   },
   "source": [
    "### 图像特征-harris角点检测\n",
    "\n"
   ]
  },
  {
   "cell_type": "markdown",
   "metadata": {
    "pycharm": {
     "name": "#%% md\n"
    }
   },
   "source": [
    "**角点定义**：\n",
    "- 角点：图像中两个边缘相交的点，具有多个方向的灰度变化（如书本的拐角）。\n",
    "- 关键性质：旋转不变性，对光照变化和噪声有一定的鲁棒性。\n",
    "\n",
    "**数学推导**：\n",
    "- 核心思想：通过滑动窗口在图像上移动，计算窗口内像素灰度值变化程度（角点的变化程度较大）。"
   ]
  },
  {
   "cell_type": "markdown",
   "metadata": {
    "collapsed": true,
    "jupyter": {
     "outputs_hidden": true
    },
    "pycharm": {
     "name": "#%% md\n"
    }
   },
   "source": [
    "![title](harris_1.png)"
   ]
  },
  {
   "cell_type": "markdown",
   "metadata": {
    "pycharm": {
     "name": "#%% md\n"
    }
   },
   "source": [
    "#### 基本原理"
   ]
  },
  {
   "cell_type": "markdown",
   "metadata": {
    "pycharm": {
     "name": "#%% md\n"
    }
   },
   "source": [
    "![title](harris_2.png)"
   ]
  },
  {
   "cell_type": "markdown",
   "metadata": {
    "pycharm": {
     "name": "#%% md\n"
    }
   },
   "source": [
    "![title](harris_9.png)"
   ]
  },
  {
   "cell_type": "markdown",
   "metadata": {
    "pycharm": {
     "name": "#%% md\n"
    }
   },
   "source": [
    "![title](harris_4.png)"
   ]
  },
  {
   "cell_type": "markdown",
   "metadata": {
    "pycharm": {
     "name": "#%% md\n"
    }
   },
   "source": [
    "![title](harris_5.png)"
   ]
  },
  {
   "cell_type": "markdown",
   "metadata": {
    "pycharm": {
     "name": "#%% md\n"
    }
   },
   "source": [
    "![title](harris_6.png)"
   ]
  },
  {
   "cell_type": "markdown",
   "metadata": {
    "pycharm": {
     "name": "#%% md\n"
    }
   },
   "source": [
    "![title](harris_11.png)\n",
    "\n",
    "\n",
    "一般结果分析：\n",
    "- R>0：角点\n",
    "- R≈0：平面\n",
    "- R<0：边缘"
   ]
  },
  {
   "cell_type": "markdown",
   "metadata": {
    "pycharm": {
     "name": "#%% md\n"
    }
   },
   "source": [
    "#### cv2.cornerHarris() \n",
    "- img： 数据类型为 ﬂoat32 的入图像。\n",
    "- blockSize： 角点检测中指定区域的大小，如2表示2x2窗口。\n",
    "- ksize： Sobel求导中使用的窗口大小，通常为3表示3x3卷积核。\n",
    "- k： 经验取值参数，默认为0.04~0.06"
   ]
  },
  {
   "cell_type": "code",
   "execution_count": null,
   "outputs": [],
   "source": [
    "import cv2 \n",
    "import numpy as np\n",
    "\n",
    "img = cv2.imread('test_1.jpg')\n",
    "print ('img.shape:',img.shape)\n",
    "gray = cv2.cvtColor(img, cv2.COLOR_BGR2GRAY)\n",
    "# gray = np.float32(gray)\n",
    "# 对图片中每个像素点都计算其中的Harris值\n",
    "dst = cv2.cornerHarris(gray, 2, 3, 0.04)\n",
    "print ('dst.shape:',dst.shape)"
   ],
   "metadata": {
    "collapsed": false,
    "pycharm": {
     "name": "#%%\n"
    }
   }
  },
  {
   "cell_type": "code",
   "execution_count": null,
   "outputs": [],
   "source": [
    "# 设置阈值（取最大响应的1%）\n",
    "# 目的：自适应筛选显著的角点。\n",
    "# cv2.cornerHarris()的输出是一个相应矩阵dst，其中每个像素的值为Harris响应值\n",
    "# 响应值大小：表示该位置作为角点的可能性（值越大，越可能是角点）。\n",
    "# 噪音与非角点干扰：若直接使用原始响应值，许多弱相应点（如边缘或噪声）会被误判为角点。\n",
    "#                   通过阈值筛选，可以过滤掉低置信度的角点，仅保留显著的特征点。\n",
    "# 1%是经验值：实验表明，多数情况下 0.0.1 * max() 能平衡灵敏度和误检率\n",
    "threshold = 0.01 * dst.max()\n",
    "# 将角点标记为红色\n",
    "img[dst > threshold] = [0, 0, 255] \n",
    "# 绘制角点\n",
    "cv2.imshow('dst',img) \n",
    "cv2.waitKey(0) \n",
    "cv2.destroyAllWindows()\n"
   ],
   "metadata": {
    "collapsed": false,
    "pycharm": {
     "name": "#%%\n"
    }
   }
  },
  {
   "cell_type": "code",
   "execution_count": null,
   "metadata": {
    "collapsed": true,
    "jupyter": {
     "outputs_hidden": true
    },
    "pycharm": {
     "name": "#%%\n"
    }
   },
   "outputs": [],
   "source": []
  }
 ],
 "metadata": {
  "kernelspec": {
   "display_name": "Python 3 (ipykernel)",
   "language": "python",
   "name": "python3"
  },
  "language_info": {
   "codemirror_mode": {
    "name": "ipython",
    "version": 3
   },
   "file_extension": ".py",
   "mimetype": "text/x-python",
   "name": "python",
   "nbconvert_exporter": "python",
   "pygments_lexer": "ipython3",
   "version": "3.8.3"
  }
 },
 "nbformat": 4,
 "nbformat_minor": 4
}